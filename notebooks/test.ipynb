{
 "cells": [
  {
   "cell_type": "markdown",
   "metadata": {},
   "source": [
    "# **This is a test file**"
   ]
  },
  {
   "cell_type": "code",
   "execution_count": 60,
   "metadata": {},
   "outputs": [],
   "source": [
    "import numpy as np\n",
    "import pandas as pd\n",
    "import matplotlib.pyplot as plt\n",
    "import seaborn as sns"
   ]
  },
  {
   "cell_type": "code",
   "execution_count": 41,
   "metadata": {},
   "outputs": [],
   "source": [
    "# Loading the test file\n",
    "\n",
    "df = pd.read_csv('D:/Desktop/PROJECT/data/raw/Skyserver_CrossID2_3_2025 8_31_01 PM.csv')"
   ]
  },
  {
   "cell_type": "markdown",
   "metadata": {},
   "source": [
    "# **SDSS Data Column Descriptions**\n",
    "\n",
    "## **Column Names and Their Meanings**\n",
    "| **Column Name** | **Description** |\n",
    "|---------------|----------------|\n",
    "| **objID** | Unique identifier assigned to each astronomical object in the SDSS catalog. |\n",
    "| **ra** (Right Ascension) | The celestial equivalent of longitude, measuring the object's position along the celestial sphere in degrees. |\n",
    "| **dec** (Declination) | The celestial equivalent of latitude, measuring the object's position above or below the celestial equator in degrees. |\n",
    "| **z** (Redshift) | A measure of how much the object's light has been stretched due to the expansion of the universe. Higher **z** values indicate objects that are farther away. |\n",
    "| **u, g, r, i, z1** | The magnitudes of the object in five different photometric bands of the SDSS system: |\n",
    "| **u** | Ultraviolet (~355 nm wavelength). |\n",
    "| **g** | Green (~475 nm wavelength). |\n",
    "| **r** | Red (~622 nm wavelength). |\n",
    "| **i** | Near-infrared (~763 nm wavelength). |\n",
    "| **z1** | Deep infrared (~913 nm wavelength). |\n",
    "\n",
    "## **Relevance to Dark Matter Research**\n",
    "- **Redshift (z)** helps estimate the **distance** of objects and contributes to **large-scale structure studies**, which are crucial in dark matter research.\n",
    "- **RA & Dec** allow for mapping object positions, useful in **clustering analyses** to identify gravitational lensing effects caused by dark matter.\n",
    "- **Photometric Magnitudes (u, g, r, i, z1)** are used to classify objects (e.g., stars, galaxies, quasars) and can help determine **mass distributions** influenced by dark matter.\n",
    "\n"
   ]
  },
  {
   "cell_type": "markdown",
   "metadata": {},
   "source": [
    "# Step 1: Data Loading & EDA"
   ]
  },
  {
   "cell_type": "code",
   "execution_count": 42,
   "metadata": {},
   "outputs": [
    {
     "data": {
      "text/html": [
       "<div>\n",
       "<style scoped>\n",
       "    .dataframe tbody tr th:only-of-type {\n",
       "        vertical-align: middle;\n",
       "    }\n",
       "\n",
       "    .dataframe tbody tr th {\n",
       "        vertical-align: top;\n",
       "    }\n",
       "\n",
       "    .dataframe thead th {\n",
       "        text-align: right;\n",
       "    }\n",
       "</style>\n",
       "<table border=\"1\" class=\"dataframe\">\n",
       "  <thead>\n",
       "    <tr style=\"text-align: right;\">\n",
       "      <th></th>\n",
       "      <th>objID</th>\n",
       "      <th>ra</th>\n",
       "      <th>dec</th>\n",
       "      <th>z</th>\n",
       "      <th>u</th>\n",
       "      <th>g</th>\n",
       "      <th>r</th>\n",
       "      <th>i</th>\n",
       "      <th>z1</th>\n",
       "    </tr>\n",
       "  </thead>\n",
       "  <tbody>\n",
       "    <tr>\n",
       "      <th>0</th>\n",
       "      <td>1.237670e+18</td>\n",
       "      <td>262.988865</td>\n",
       "      <td>2.802095</td>\n",
       "      <td>-9999</td>\n",
       "      <td>-9999.00000</td>\n",
       "      <td>23.45081</td>\n",
       "      <td>24.22334</td>\n",
       "      <td>23.044160</td>\n",
       "      <td>-9999</td>\n",
       "    </tr>\n",
       "    <tr>\n",
       "      <th>1</th>\n",
       "      <td>1.237660e+18</td>\n",
       "      <td>264.897663</td>\n",
       "      <td>5.842619</td>\n",
       "      <td>-9999</td>\n",
       "      <td>14.62699</td>\n",
       "      <td>11.90290</td>\n",
       "      <td>11.38807</td>\n",
       "      <td>11.232650</td>\n",
       "      <td>-9999</td>\n",
       "    </tr>\n",
       "    <tr>\n",
       "      <th>2</th>\n",
       "      <td>1.237660e+18</td>\n",
       "      <td>283.270997</td>\n",
       "      <td>-2.016658</td>\n",
       "      <td>-9999</td>\n",
       "      <td>14.68502</td>\n",
       "      <td>13.70108</td>\n",
       "      <td>12.31082</td>\n",
       "      <td>13.912460</td>\n",
       "      <td>-9999</td>\n",
       "    </tr>\n",
       "    <tr>\n",
       "      <th>3</th>\n",
       "      <td>1.237660e+18</td>\n",
       "      <td>284.646119</td>\n",
       "      <td>-3.675260</td>\n",
       "      <td>-9999</td>\n",
       "      <td>14.64243</td>\n",
       "      <td>14.12167</td>\n",
       "      <td>13.01476</td>\n",
       "      <td>12.962710</td>\n",
       "      <td>-9999</td>\n",
       "    </tr>\n",
       "    <tr>\n",
       "      <th>4</th>\n",
       "      <td>1.237670e+18</td>\n",
       "      <td>262.825650</td>\n",
       "      <td>-13.749519</td>\n",
       "      <td>-9999</td>\n",
       "      <td>15.34654</td>\n",
       "      <td>14.53677</td>\n",
       "      <td>13.79858</td>\n",
       "      <td>9.610632</td>\n",
       "      <td>-9999</td>\n",
       "    </tr>\n",
       "  </tbody>\n",
       "</table>\n",
       "</div>"
      ],
      "text/plain": [
       "          objID          ra        dec     z           u         g         r  \\\n",
       "0  1.237670e+18  262.988865   2.802095 -9999 -9999.00000  23.45081  24.22334   \n",
       "1  1.237660e+18  264.897663   5.842619 -9999    14.62699  11.90290  11.38807   \n",
       "2  1.237660e+18  283.270997  -2.016658 -9999    14.68502  13.70108  12.31082   \n",
       "3  1.237660e+18  284.646119  -3.675260 -9999    14.64243  14.12167  13.01476   \n",
       "4  1.237670e+18  262.825650 -13.749519 -9999    15.34654  14.53677  13.79858   \n",
       "\n",
       "           i    z1  \n",
       "0  23.044160 -9999  \n",
       "1  11.232650 -9999  \n",
       "2  13.912460 -9999  \n",
       "3  12.962710 -9999  \n",
       "4   9.610632 -9999  "
      ]
     },
     "execution_count": 42,
     "metadata": {},
     "output_type": "execute_result"
    }
   ],
   "source": [
    "df.head(5)"
   ]
  },
  {
   "cell_type": "code",
   "execution_count": 43,
   "metadata": {},
   "outputs": [
    {
     "data": {
      "text/plain": [
       "objID    0\n",
       "ra       0\n",
       "dec      0\n",
       "z        0\n",
       "u        0\n",
       "g        0\n",
       "r        0\n",
       "i        0\n",
       "z1       0\n",
       "dtype: int64"
      ]
     },
     "execution_count": 43,
     "metadata": {},
     "output_type": "execute_result"
    }
   ],
   "source": [
    "df.isnull().sum()"
   ]
  },
  {
   "cell_type": "code",
   "execution_count": 44,
   "metadata": {},
   "outputs": [
    {
     "name": "stdout",
     "output_type": "stream",
     "text": [
      "<class 'pandas.core.frame.DataFrame'>\n",
      "RangeIndex: 500 entries, 0 to 499\n",
      "Data columns (total 9 columns):\n",
      " #   Column  Non-Null Count  Dtype  \n",
      "---  ------  --------------  -----  \n",
      " 0   objID   500 non-null    float64\n",
      " 1   ra      500 non-null    float64\n",
      " 2   dec     500 non-null    float64\n",
      " 3   z       500 non-null    int64  \n",
      " 4   u       500 non-null    float64\n",
      " 5   g       500 non-null    float64\n",
      " 6   r       500 non-null    float64\n",
      " 7   i       500 non-null    float64\n",
      " 8   z1      500 non-null    int64  \n",
      "dtypes: float64(7), int64(2)\n",
      "memory usage: 35.3 KB\n"
     ]
    }
   ],
   "source": [
    "df.info()"
   ]
  },
  {
   "cell_type": "code",
   "execution_count": 45,
   "metadata": {},
   "outputs": [
    {
     "data": {
      "text/plain": [
       "(500, 9)"
      ]
     },
     "execution_count": 45,
     "metadata": {},
     "output_type": "execute_result"
    }
   ],
   "source": [
    "df.shape"
   ]
  },
  {
   "cell_type": "code",
   "execution_count": 46,
   "metadata": {},
   "outputs": [
    {
     "data": {
      "text/plain": [
       "(500, 9)"
      ]
     },
     "execution_count": 46,
     "metadata": {},
     "output_type": "execute_result"
    }
   ],
   "source": [
    "df.dropna(inplace=True)\n",
    "df.shape"
   ]
  },
  {
   "cell_type": "code",
   "execution_count": 47,
   "metadata": {},
   "outputs": [
    {
     "data": {
      "text/plain": [
       "Index(['objID', 'ra', 'dec', 'z', 'u', 'g', 'r', 'i', 'z1'], dtype='object')"
      ]
     },
     "execution_count": 47,
     "metadata": {},
     "output_type": "execute_result"
    }
   ],
   "source": [
    "df.columns"
   ]
  },
  {
   "cell_type": "markdown",
   "metadata": {},
   "source": [
    "# Step 2: Data Preprocessing"
   ]
  },
  {
   "cell_type": "code",
   "execution_count": 48,
   "metadata": {},
   "outputs": [
    {
     "data": {
      "text/plain": [
       "Index(['ra', 'dec', 'z', 'u', 'g', 'r', 'i', 'z1'], dtype='object')"
      ]
     },
     "execution_count": 48,
     "metadata": {},
     "output_type": "execute_result"
    }
   ],
   "source": [
    "if \"objID\" in df.columns:\n",
    "    df = df.drop(columns=[\"objID\"])\n",
    "\n",
    "df.columns"
   ]
  },
  {
   "cell_type": "code",
   "execution_count": 49,
   "metadata": {},
   "outputs": [],
   "source": [
    "# Visualize outliers using a boxplot\n",
    "# plt.figure(figsize=(10, 6))\n",
    "# sns.boxplot(data=df[['u', 'g', 'r', 'i', 'z1', 'z']])\n",
    "# plt.title(\"Boxplot of Features\")\n",
    "# plt.show()"
   ]
  },
  {
   "cell_type": "code",
   "execution_count": 50,
   "metadata": {},
   "outputs": [],
   "source": [
    "# Normalize/Scale Features\n",
    "from sklearn.preprocessing import StandardScaler\n",
    "\n",
    "# Initialize scaler\n",
    "scaler = StandardScaler()\n",
    "\n",
    "# Apply scaling\n",
    "df[['u', 'g', 'r', 'i', 'z1']] = scaler.fit_transform(df[['u', 'g', 'r', 'i', 'z1']])\n"
   ]
  },
  {
   "cell_type": "code",
   "execution_count": 58,
   "metadata": {},
   "outputs": [
    {
     "name": "stdout",
     "output_type": "stream",
     "text": [
      "Training data shape: (400, 5)\n",
      "Testing data shape: (100, 5)\n"
     ]
    }
   ],
   "source": [
    "# Splitting Data into Training & Testing Sets\n",
    "from sklearn.model_selection import train_test_split\n",
    "\n",
    "# Define features (X) and target variable (y)\n",
    "X = df[['u', 'g', 'r', 'i', 'z1']]\n",
    "y = df['z']  # Predicting redshift\n",
    "\n",
    "# Split into training (80%) and testing (20%) sets\n",
    "X_train, X_test, y_train, y_test = train_test_split(X, y, test_size=0.2, random_state=42)\n",
    "\n",
    "# Confirm shapes\n",
    "print(f\"Training data shape: {X_train.shape}\")\n",
    "print(f\"Testing data shape: {X_test.shape}\")\n"
   ]
  },
  {
   "cell_type": "markdown",
   "metadata": {},
   "source": [
    "# Step 3: Model Training"
   ]
  },
  {
   "cell_type": "code",
   "execution_count": 57,
   "metadata": {},
   "outputs": [
    {
     "name": "stdout",
     "output_type": "stream",
     "text": [
      "Model Accuracy: 1.0000\n"
     ]
    }
   ],
   "source": [
    "# Training a Random Forest Model\n",
    "from sklearn.ensemble import RandomForestClassifier\n",
    "from sklearn.metrics import accuracy_score\n",
    "\n",
    "# Initialize model\n",
    "model = RandomForestClassifier(n_estimators=100, random_state=42)\n",
    "\n",
    "# Train model\n",
    "model.fit(X_train, y_train)\n",
    "\n",
    "# Make predictions\n",
    "y_pred = model.predict(X_test)\n",
    "\n",
    "# Evaluate accuracy\n",
    "accuracy = accuracy_score(y_test, y_pred)\n",
    "print(f\"Model Accuracy: {accuracy:.4f}\")\n"
   ]
  },
  {
   "cell_type": "markdown",
   "metadata": {},
   "source": [
    "# Troubleshooting"
   ]
  },
  {
   "cell_type": "code",
   "execution_count": 62,
   "metadata": {},
   "outputs": [
    {
     "name": "stdout",
     "output_type": "stream",
     "text": [
      "ra    NaN\n",
      "dec   NaN\n",
      "z     NaN\n",
      "u     NaN\n",
      "g     NaN\n",
      "r     NaN\n",
      "i     NaN\n",
      "z1    NaN\n",
      "Name: z, dtype: float64\n"
     ]
    }
   ],
   "source": [
    "# Check correlation with target\n",
    "correlation = df.corr()[\"z\"].sort_values(ascending=False)\n",
    "print(correlation)"
   ]
  },
  {
   "cell_type": "code",
   "execution_count": 64,
   "metadata": {},
   "outputs": [
    {
     "name": "stdout",
     "output_type": "stream",
     "text": [
      "Updated Model Accuracy: 1.0000\n"
     ]
    }
   ],
   "source": [
    "# \n",
    "from sklearn.ensemble import RandomForestClassifier\n",
    "\n",
    "model = RandomForestClassifier(\n",
    "    n_estimators=50,  # Reduce number of trees\n",
    "    max_depth=5,  # Limit tree depth\n",
    "    min_samples_split=10,  # Require more samples to split\n",
    "    min_samples_leaf=5,  # Avoid deep trees\n",
    "    random_state=42\n",
    ")\n",
    "\n",
    "model.fit(X_train, y_train)\n",
    "y_pred = model.predict(X_test)\n",
    "\n",
    "from sklearn.metrics import accuracy_score\n",
    "accuracy = accuracy_score(y_test, y_pred)\n",
    "print(f\"Updated Model Accuracy: {accuracy:.4f}\")\n"
   ]
  },
  {
   "cell_type": "code",
   "execution_count": 66,
   "metadata": {},
   "outputs": [
    {
     "name": "stdout",
     "output_type": "stream",
     "text": [
      "Cross-Validation Mean Accuracy: 1.0000\n"
     ]
    }
   ],
   "source": [
    "# cross-validation\n",
    "from sklearn.model_selection import cross_val_score\n",
    "\n",
    "rf_scores = cross_val_score(model, X, y, cv=5)  # 5-fold cross-validation\n",
    "print(f\"Cross-Validation Mean Accuracy: {rf_scores.mean():.4f}\")\n"
   ]
  }
 ],
 "metadata": {
  "kernelspec": {
   "display_name": "MLproject",
   "language": "python",
   "name": "python3"
  },
  "language_info": {
   "codemirror_mode": {
    "name": "ipython",
    "version": 3
   },
   "file_extension": ".py",
   "mimetype": "text/x-python",
   "name": "python",
   "nbconvert_exporter": "python",
   "pygments_lexer": "ipython3",
   "version": "3.12.5"
  }
 },
 "nbformat": 4,
 "nbformat_minor": 2
}
