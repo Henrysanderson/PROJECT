{
 "cells": [
  {
   "cell_type": "markdown",
   "metadata": {},
   "source": [
    "## **This is the second test file**"
   ]
  },
  {
   "cell_type": "code",
   "execution_count": 1,
   "metadata": {},
   "outputs": [],
   "source": [
    "import numpy as np\n",
    "import pandas as pd\n",
    "import matplotlib.pyplot as plt\n",
    "import seaborn as sns"
   ]
  },
  {
   "cell_type": "code",
   "execution_count": 2,
   "metadata": {},
   "outputs": [],
   "source": [
    "df = pd.read_csv('D:/Desktop/PROJECT/data/raw/1738613946331O-result.csv')"
   ]
  },
  {
   "cell_type": "code",
   "execution_count": 3,
   "metadata": {},
   "outputs": [
    {
     "data": {
      "text/html": [
       "<div>\n",
       "<style scoped>\n",
       "    .dataframe tbody tr th:only-of-type {\n",
       "        vertical-align: middle;\n",
       "    }\n",
       "\n",
       "    .dataframe tbody tr th {\n",
       "        vertical-align: top;\n",
       "    }\n",
       "\n",
       "    .dataframe thead th {\n",
       "        text-align: right;\n",
       "    }\n",
       "</style>\n",
       "<table border=\"1\" class=\"dataframe\">\n",
       "  <thead>\n",
       "    <tr style=\"text-align: right;\">\n",
       "      <th></th>\n",
       "      <th>source_id</th>\n",
       "      <th>ra</th>\n",
       "      <th>dec</th>\n",
       "      <th>parallax</th>\n",
       "      <th>pmra</th>\n",
       "      <th>pmdec</th>\n",
       "      <th>phot_g_mean_mag</th>\n",
       "    </tr>\n",
       "  </thead>\n",
       "  <tbody>\n",
       "    <tr>\n",
       "      <th>0</th>\n",
       "      <td>418551920284673408</td>\n",
       "      <td>10.127242</td>\n",
       "      <td>56.537189</td>\n",
       "      <td>14.090976</td>\n",
       "      <td>49.125646</td>\n",
       "      <td>-31.595374</td>\n",
       "      <td>1.942524</td>\n",
       "    </tr>\n",
       "    <tr>\n",
       "      <th>1</th>\n",
       "      <td>4357027756659697664</td>\n",
       "      <td>243.586211</td>\n",
       "      <td>-3.694968</td>\n",
       "      <td>20.411292</td>\n",
       "      <td>-45.340019</td>\n",
       "      <td>-144.432722</td>\n",
       "      <td>2.016425</td>\n",
       "    </tr>\n",
       "    <tr>\n",
       "      <th>2</th>\n",
       "      <td>5589311357728452608</td>\n",
       "      <td>109.285594</td>\n",
       "      <td>-37.097444</td>\n",
       "      <td>5.762063</td>\n",
       "      <td>-11.562000</td>\n",
       "      <td>6.520111</td>\n",
       "      <td>2.083237</td>\n",
       "    </tr>\n",
       "    <tr>\n",
       "      <th>3</th>\n",
       "      <td>4993479684438433792</td>\n",
       "      <td>6.572156</td>\n",
       "      <td>-42.307820</td>\n",
       "      <td>39.918258</td>\n",
       "      <td>176.268293</td>\n",
       "      <td>-398.872135</td>\n",
       "      <td>2.089977</td>\n",
       "    </tr>\n",
       "    <tr>\n",
       "      <th>4</th>\n",
       "      <td>4038055447778237312</td>\n",
       "      <td>274.406090</td>\n",
       "      <td>-36.762429</td>\n",
       "      <td>23.885852</td>\n",
       "      <td>-131.804070</td>\n",
       "      <td>-166.308930</td>\n",
       "      <td>2.116495</td>\n",
       "    </tr>\n",
       "  </tbody>\n",
       "</table>\n",
       "</div>"
      ],
      "text/plain": [
       "             source_id          ra        dec   parallax        pmra  \\\n",
       "0   418551920284673408   10.127242  56.537189  14.090976   49.125646   \n",
       "1  4357027756659697664  243.586211  -3.694968  20.411292  -45.340019   \n",
       "2  5589311357728452608  109.285594 -37.097444   5.762063  -11.562000   \n",
       "3  4993479684438433792    6.572156 -42.307820  39.918258  176.268293   \n",
       "4  4038055447778237312  274.406090 -36.762429  23.885852 -131.804070   \n",
       "\n",
       "        pmdec  phot_g_mean_mag  \n",
       "0  -31.595374         1.942524  \n",
       "1 -144.432722         2.016425  \n",
       "2    6.520111         2.083237  \n",
       "3 -398.872135         2.089977  \n",
       "4 -166.308930         2.116495  "
      ]
     },
     "execution_count": 3,
     "metadata": {},
     "output_type": "execute_result"
    }
   ],
   "source": [
    "df.head(5)"
   ]
  },
  {
   "cell_type": "code",
   "execution_count": 8,
   "metadata": {},
   "outputs": [
    {
     "data": {
      "text/plain": [
       "Index(['source_id', 'ra', 'dec', 'parallax', 'pmra', 'pmdec',\n",
       "       'phot_g_mean_mag', 'pm_total', 'distance'],\n",
       "      dtype='object')"
      ]
     },
     "execution_count": 8,
     "metadata": {},
     "output_type": "execute_result"
    }
   ],
   "source": [
    "df.columns"
   ]
  },
  {
   "cell_type": "markdown",
   "metadata": {},
   "source": [
    "## **Step 1: Feature Engineering**\n",
    "We'll create:\n",
    "\n",
    "- **pm_total**: The total proper motion combining pmra and pmdec.\n",
    "- **distance**: The inverse of parallax (for positive values only).\n"
   ]
  },
  {
   "cell_type": "code",
   "execution_count": 5,
   "metadata": {},
   "outputs": [
    {
     "name": "stdout",
     "output_type": "stream",
     "text": [
      "             source_id          ra        dec   parallax        pmra  \\\n",
      "0   418551920284673408   10.127242  56.537189  14.090976   49.125646   \n",
      "1  4357027756659697664  243.586211  -3.694968  20.411292  -45.340019   \n",
      "2  5589311357728452608  109.285594 -37.097444   5.762063  -11.562000   \n",
      "3  4993479684438433792    6.572156 -42.307820  39.918258  176.268293   \n",
      "4  4038055447778237312  274.406090 -36.762429  23.885852 -131.804070   \n",
      "\n",
      "        pmdec  phot_g_mean_mag    pm_total  distance  \n",
      "0  -31.595374         1.942524   58.408876  0.070967  \n",
      "1 -144.432722         2.016425  151.382062  0.048992  \n",
      "2    6.520111         2.083237   13.273722  0.173549  \n",
      "3 -398.872135         2.089977  436.084270  0.025051  \n",
      "4 -166.308930         2.116495  212.205027  0.041866  \n"
     ]
    }
   ],
   "source": [
    "\n",
    "# Compute total proper motion\n",
    "df[\"pm_total\"] = np.sqrt(df[\"pmra\"]**2 + df[\"pmdec\"]**2)\n",
    "\n",
    "# Compute distance (handle non-positive parallax)\n",
    "df[\"distance\"] = np.where(df[\"parallax\"] > 0, 1 / df[\"parallax\"], np.nan)\n",
    "\n",
    "# Drop rows with NaN distances (optional, depending on dataset size)\n",
    "df = df.dropna(subset=[\"distance\"])\n",
    "\n",
    "# Preview updated dataset\n",
    "print(df.head())\n"
   ]
  },
  {
   "cell_type": "markdown",
   "metadata": {},
   "source": [
    "\n",
    "### **Step 2: Scaling & Normalization**\n",
    "Now that we’ve added **pm_total** and **distance**, we need to scale our features so that they are on similar ranges. This helps models like Random Forest and especially Gradient Boosting perform better."
   ]
  },
  {
   "cell_type": "code",
   "execution_count": 9,
   "metadata": {},
   "outputs": [
    {
     "name": "stdout",
     "output_type": "stream",
     "text": [
      "             source_id        ra       dec  parallax      pmra     pmdec  \\\n",
      "0   418551920284673408 -1.749785  1.505563 -0.232368  0.241929 -0.003190   \n",
      "1  4357027756659697664  0.584102  0.022155 -0.001363 -0.218768 -0.744528   \n",
      "2  5589311357728452608 -0.758500 -0.800488 -0.536786 -0.054037  0.247227   \n",
      "3  4993479684438433792 -1.785325 -0.928810  0.711608  0.861988 -2.416188   \n",
      "4  4038055447778237312  0.892207 -0.792237  0.125631 -0.640443 -0.888254   \n",
      "\n",
      "   phot_g_mean_mag  pm_total  distance  \n",
      "0        -3.194105 -0.311147 -0.378870  \n",
      "1        -3.031053  0.105347 -0.547523  \n",
      "2        -2.883642 -0.513339  0.408424  \n",
      "3        -2.868771  1.380734 -0.731268  \n",
      "4        -2.810264  0.377817 -0.602219  \n"
     ]
    }
   ],
   "source": [
    "from sklearn.preprocessing import StandardScaler\n",
    "\n",
    "# Selecting only numerical columns to scale\n",
    "features_to_scale = [\"ra\", \"dec\", \"parallax\", \"pmra\", \"pmdec\", \"phot_g_mean_mag\", \"pm_total\", \"distance\"]\n",
    "\n",
    "# Initialize StandardScaler\n",
    "scaler = StandardScaler()\n",
    "\n",
    "# Apply scaling\n",
    "df_scaled = df.copy()  # Create a copy to avoid modifying original data\n",
    "df_scaled[features_to_scale] = scaler.fit_transform(df_scaled[features_to_scale])\n",
    "\n",
    "# Check the transformed dataset\n",
    "print(df_scaled.head())\n"
   ]
  },
  {
   "cell_type": "code",
   "execution_count": 12,
   "metadata": {},
   "outputs": [
    {
     "data": {
      "image/png": "[encoded data removed]",
      "text/plain": [
       "<Figure size 800x500 with 1 Axes>"
      ]
     },
     "metadata": {},
     "output_type": "display_data"
    },
    {
     "name": "stdout",
     "output_type": "stream",
     "text": [
      "phot_g_mean_mag\n",
      " 1.231627    1\n",
      "-3.194105    1\n",
      "-3.031053    1\n",
      "-2.883642    1\n",
      " 1.178101    1\n",
      "            ..\n",
      "-2.472969    1\n",
      "-2.573751    1\n",
      "-2.631446    1\n",
      "-2.662754    1\n",
      "-2.810264    1\n",
      "Name: count, Length: 500, dtype: int64\n"
     ]
    }
   ],
   "source": [
    "import seaborn as sns\n",
    "import matplotlib.pyplot as plt\n",
    "\n",
    "# Count occurrences of each class in the target column\n",
    "target_col = \"phot_g_mean_mag\"  # Replace with the actual target column name\n",
    "class_counts = df_scaled[target_col].value_counts()\n",
    "\n",
    "# Plot the class distribution\n",
    "plt.figure(figsize=(8, 5))\n",
    "sns.barplot(x=class_counts.index, y=class_counts.values)\n",
    "plt.xlabel(\"Class\")\n",
    "plt.ylabel(\"Count\")\n",
    "plt.title(\"Class Distribution\")\n",
    "plt.show()\n",
    "\n",
    "# Print raw counts\n",
    "print(class_counts)\n"
   ]
  },
  {
   "cell_type": "code",
   "execution_count": null,
   "metadata": {},
   "outputs": [],
   "source": []
  }
 ],
 "metadata": {
  "kernelspec": {
   "display_name": "MLproject",
   "language": "python",
   "name": "python3"
  },
  "language_info": {
   "codemirror_mode": {
    "name": "ipython",
    "version": 3
   },
   "file_extension": ".py",
   "mimetype": "text/x-python",
   "name": "python",
   "nbconvert_exporter": "python",
   "pygments_lexer": "ipython3",
   "version": "3.12.5"
  }
 },
 "nbformat": 4,
 "nbformat_minor": 2
}
